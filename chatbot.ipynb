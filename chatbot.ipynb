{
 "cells": [
  {
   "cell_type": "markdown",
   "metadata": {},
   "source": [
    "# Simple_Python_Chatbot\n",
    "A chatbot that can answer predefined questions and learn new responses from the user.\n",
    "\n",
    "# Simple Chatbot\n",
    "## Objective\n",
    "Create a chatbot that can answer predefined questions and learn new responses from the user.\n",
    "\n",
    "## Features\n",
    "Respond to predefined questions.\n",
    "Learn new responses if it doesn't understand a question.\n",
    "Save learned responses for future sessions."
   ]
  },
  {
   "cell_type": "code",
   "execution_count": null,
   "metadata": {},
   "outputs": [],
   "source": [
    "import json\n",
    "\n",
    "# File to store chatbot knowledge\n",
    "KNOWLEDGE_FILE = \"chatbot_knowledge.json\"\n",
    "\n",
    "# Load chatbot knowledge from file\n",
    "def load_knowledge():\n",
    "    try:\n",
    "        with open(KNOWLEDGE_FILE, \"r\") as file:\n",
    "            return json.load(file)\n",
    "    except (FileNotFoundError, json.JSONDecodeError):\n",
    "        return {}\n",
    "\n",
    "# Save chatbot knowledge to file\n",
    "def save_knowledge(knowledge):\n",
    "    with open(KNOWLEDGE_FILE, \"w\") as file:\n",
    "        json.dump(knowledge, file, indent=4)\n",
    "\n",
    "# Chatbot function to handle interaction\n",
    "def chatbot():\n",
    "    print(\"Simple Chatbot\")\n",
    "    print(\"Type 'exit' to end the chat.\\n\")\n",
    "    knowledge = load_knowledge()\n",
    "\n",
    "    while True:\n",
    "        user_input = input(\"You: \").strip().lower()\n",
    "        if user_input == \"exit\":\n",
    "            print(\"Chatbot: Goodbye!\")\n",
    "            break\n",
    "        if user_input in knowledge:\n",
    "            print(f\"Chatbot: {knowledge[user_input]}\")\n",
    "        else:\n",
    "            print(\"Chatbot: I don't know the answer to that.\")\n",
    "            new_response = input(\"Can you teach me how to respond to this? (yes/no): \").strip().lower()\n",
    "            if new_response == \"yes\":\n",
    "                response = input(\"What should I say? \").strip()\n",
    "                knowledge[user_input] = response\n",
    "                save_knowledge(knowledge)\n",
    "                print(\"Chatbot: Thank you! I've learned something new.\")\n",
    "\n",
    "# Main entry point\n",
    "if __name__ == \"__main__\":\n",
    "    chatbot()\n"
   ]
  }
 ],
 "metadata": {
  "kernelspec": {
   "display_name": "Python 3",
   "language": "python",
   "name": "python3"
  },
  "language_info": {
   "name": "python",
   "version": "3.13.0"
  }
 },
 "nbformat": 4,
 "nbformat_minor": 2
}
