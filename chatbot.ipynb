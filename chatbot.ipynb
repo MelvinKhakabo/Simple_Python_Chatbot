{
 "cells": [
  {
   "cell_type": "markdown",
   "metadata": {},
   "source": [
    "# Simple_Python_Chatbot\n",
    "A chatbot that can answer predefined questions and learn new responses from the user.\n",
    "\n",
    "# Simple Chatbot\n",
    "## Objective\n",
    "Create a chatbot that can answer predefined questions and learn new responses from the user.\n",
    "\n",
    "## Features\n",
    "Respond to predefined questions.\n",
    "Learn new responses if it doesn't understand a question.\n",
    "Save learned responses for future sessions."
   ]
  }
 ],
 "metadata": {
  "language_info": {
   "name": "python"
  }
 },
 "nbformat": 4,
 "nbformat_minor": 2
}
